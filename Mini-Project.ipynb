{
 "cells": [
  {
   "cell_type": "markdown",
   "metadata": {},
   "source": [
    "#  This Notebook explores the relationship between Mexico Remittances Received versus Mexico Household Consumption"
   ]
  },
  {
   "cell_type": "markdown",
   "metadata": {
    "collapsed": true
   },
   "source": [
    "### Data Source: https://www.kaggle.com/worldbank/world-development-indicators\n",
    "### Folder: 'world-development-indicators'"
   ]
  },
  {
   "cell_type": "markdown",
   "metadata": {},
   "source": [
    "In this notebook I have used the dataset covered in class to explore two indicators in the dataset. \n",
    "\n",
    "Household final consumption expenditure versus Personal remittances, received for Mexico"
   ]
  },
  {
   "cell_type": "code",
   "execution_count": 1,
   "metadata": {},
   "outputs": [],
   "source": [
    "import pandas as pd\n",
    "import numpy as np\n",
    "import matplotlib.pyplot as plt"
   ]
  },
  {
   "cell_type": "code",
   "execution_count": 2,
   "metadata": {},
   "outputs": [],
   "source": [
    "data = pd.read_csv('./Indicators.csv')"
   ]
  },
  {
   "cell_type": "code",
   "execution_count": 3,
   "metadata": {},
   "outputs": [
    {
     "data": {
      "text/plain": [
       "(5656458, 6)"
      ]
     },
     "execution_count": 3,
     "metadata": {},
     "output_type": "execute_result"
    }
   ],
   "source": [
    "data.shape"
   ]
  },
  {
   "cell_type": "code",
   "execution_count": 4,
   "metadata": {},
   "outputs": [
    {
     "data": {
      "text/html": [
       "<div>\n",
       "<style scoped>\n",
       "    .dataframe tbody tr th:only-of-type {\n",
       "        vertical-align: middle;\n",
       "    }\n",
       "\n",
       "    .dataframe tbody tr th {\n",
       "        vertical-align: top;\n",
       "    }\n",
       "\n",
       "    .dataframe thead th {\n",
       "        text-align: right;\n",
       "    }\n",
       "</style>\n",
       "<table border=\"1\" class=\"dataframe\">\n",
       "  <thead>\n",
       "    <tr style=\"text-align: right;\">\n",
       "      <th></th>\n",
       "      <th>CountryName</th>\n",
       "      <th>CountryCode</th>\n",
       "      <th>IndicatorName</th>\n",
       "      <th>IndicatorCode</th>\n",
       "      <th>Year</th>\n",
       "      <th>Value</th>\n",
       "    </tr>\n",
       "  </thead>\n",
       "  <tbody>\n",
       "    <tr>\n",
       "      <th>0</th>\n",
       "      <td>Arab World</td>\n",
       "      <td>ARB</td>\n",
       "      <td>Adolescent fertility rate (births per 1,000 wo...</td>\n",
       "      <td>SP.ADO.TFRT</td>\n",
       "      <td>1960</td>\n",
       "      <td>1.335609e+02</td>\n",
       "    </tr>\n",
       "    <tr>\n",
       "      <th>1</th>\n",
       "      <td>Arab World</td>\n",
       "      <td>ARB</td>\n",
       "      <td>Age dependency ratio (% of working-age populat...</td>\n",
       "      <td>SP.POP.DPND</td>\n",
       "      <td>1960</td>\n",
       "      <td>8.779760e+01</td>\n",
       "    </tr>\n",
       "    <tr>\n",
       "      <th>2</th>\n",
       "      <td>Arab World</td>\n",
       "      <td>ARB</td>\n",
       "      <td>Age dependency ratio, old (% of working-age po...</td>\n",
       "      <td>SP.POP.DPND.OL</td>\n",
       "      <td>1960</td>\n",
       "      <td>6.634579e+00</td>\n",
       "    </tr>\n",
       "    <tr>\n",
       "      <th>3</th>\n",
       "      <td>Arab World</td>\n",
       "      <td>ARB</td>\n",
       "      <td>Age dependency ratio, young (% of working-age ...</td>\n",
       "      <td>SP.POP.DPND.YG</td>\n",
       "      <td>1960</td>\n",
       "      <td>8.102333e+01</td>\n",
       "    </tr>\n",
       "    <tr>\n",
       "      <th>4</th>\n",
       "      <td>Arab World</td>\n",
       "      <td>ARB</td>\n",
       "      <td>Arms exports (SIPRI trend indicator values)</td>\n",
       "      <td>MS.MIL.XPRT.KD</td>\n",
       "      <td>1960</td>\n",
       "      <td>3.000000e+06</td>\n",
       "    </tr>\n",
       "  </tbody>\n",
       "</table>\n",
       "</div>"
      ],
      "text/plain": [
       "  CountryName CountryCode                                      IndicatorName  \\\n",
       "0  Arab World         ARB  Adolescent fertility rate (births per 1,000 wo...   \n",
       "1  Arab World         ARB  Age dependency ratio (% of working-age populat...   \n",
       "2  Arab World         ARB  Age dependency ratio, old (% of working-age po...   \n",
       "3  Arab World         ARB  Age dependency ratio, young (% of working-age ...   \n",
       "4  Arab World         ARB        Arms exports (SIPRI trend indicator values)   \n",
       "\n",
       "    IndicatorCode  Year         Value  \n",
       "0     SP.ADO.TFRT  1960  1.335609e+02  \n",
       "1     SP.POP.DPND  1960  8.779760e+01  \n",
       "2  SP.POP.DPND.OL  1960  6.634579e+00  \n",
       "3  SP.POP.DPND.YG  1960  8.102333e+01  \n",
       "4  MS.MIL.XPRT.KD  1960  3.000000e+06  "
      ]
     },
     "execution_count": 4,
     "metadata": {},
     "output_type": "execute_result"
    }
   ],
   "source": [
    "data.head()"
   ]
  },
  {
   "cell_type": "code",
   "execution_count": 5,
   "metadata": {},
   "outputs": [],
   "source": [
    "countries = data['CountryName'].unique().tolist()\n",
    "indicators = data['IndicatorName'].unique().tolist()"
   ]
  },
  {
   "cell_type": "code",
   "execution_count": 6,
   "metadata": {},
   "outputs": [
    {
     "name": "stdout",
     "output_type": "stream",
     "text": [
      "247\n",
      "1344\n"
     ]
    }
   ],
   "source": [
    "print(len(countries))\n",
    "print(len(indicators))"
   ]
  },
  {
   "cell_type": "markdown",
   "metadata": {},
   "source": [
    "There are 247 distinct countries and 1344 distinct indicators in the dataset.\n",
    "\n",
    "My analysis is going to focus on 1 country and 2 indicators."
   ]
  },
  {
   "cell_type": "code",
   "execution_count": 7,
   "metadata": {},
   "outputs": [],
   "source": [
    "remittances = 'Personal remittances, received \\(current US'\n",
    "country = 'Mexico'\n",
    "consumption = 'Household final consumption expenditure \\(current US'\n",
    "#agriculture = 'Employment in agriculture \\(% of total employment'\n",
    "\n",
    "\n",
    "mask1 = data['IndicatorName'].str.contains(remittances)\n",
    "mask2 = data['CountryName'].str.contains(country)\n",
    "mask3 = data['IndicatorName'].str.contains(consumption)\n",
    "#mask4 = data['IndicatorName'].str.contains(agri)\n"
   ]
  },
  {
   "cell_type": "markdown",
   "metadata": {},
   "source": [
    "Above I created variables to hold the strings that I will use to create masks/filsters with the str.contains function"
   ]
  },
  {
   "cell_type": "code",
   "execution_count": 8,
   "metadata": {},
   "outputs": [],
   "source": [
    "mex_remittances = data[mask1 & mask2]\n",
    "mex_consumption = data[mask2 & mask3]\n",
    "#mex_agri = data[mask2 & mask4]"
   ]
  },
  {
   "cell_type": "markdown",
   "metadata": {},
   "source": [
    "Above I created two datasets\n",
    "\n",
    "# mex_remittances\n",
    "\n",
    "which applies the mask to filter for country 'Mexico' and the mask to filter for 'Personal remittances, received'and\n",
    "\n",
    "# mex_consumption \n",
    "which applies the mask to filter for country 'Mexico' and the mask to filter for 'Household final consumption'\n",
    "\n",
    "I also tried to explore data around agriculture employment but there was only a few data points available and it didn't add to the analysis"
   ]
  },
  {
   "cell_type": "code",
   "execution_count": 9,
   "metadata": {},
   "outputs": [
    {
     "data": {
      "text/html": [
       "<div>\n",
       "<style scoped>\n",
       "    .dataframe tbody tr th:only-of-type {\n",
       "        vertical-align: middle;\n",
       "    }\n",
       "\n",
       "    .dataframe tbody tr th {\n",
       "        vertical-align: top;\n",
       "    }\n",
       "\n",
       "    .dataframe thead th {\n",
       "        text-align: right;\n",
       "    }\n",
       "</style>\n",
       "<table border=\"1\" class=\"dataframe\">\n",
       "  <thead>\n",
       "    <tr style=\"text-align: right;\">\n",
       "      <th></th>\n",
       "      <th>CountryName</th>\n",
       "      <th>CountryCode</th>\n",
       "      <th>IndicatorName</th>\n",
       "      <th>IndicatorCode</th>\n",
       "      <th>Year</th>\n",
       "      <th>Value</th>\n",
       "    </tr>\n",
       "  </thead>\n",
       "  <tbody>\n",
       "    <tr>\n",
       "      <th>985318</th>\n",
       "      <td>Mexico</td>\n",
       "      <td>MEX</td>\n",
       "      <td>Personal remittances, received (current US$)</td>\n",
       "      <td>BX.TRF.PWKR.CD.DT</td>\n",
       "      <td>1979</td>\n",
       "      <td>1.770000e+08</td>\n",
       "    </tr>\n",
       "    <tr>\n",
       "      <th>1064681</th>\n",
       "      <td>Mexico</td>\n",
       "      <td>MEX</td>\n",
       "      <td>Personal remittances, received (current US$)</td>\n",
       "      <td>BX.TRF.PWKR.CD.DT</td>\n",
       "      <td>1980</td>\n",
       "      <td>1.039000e+09</td>\n",
       "    </tr>\n",
       "    <tr>\n",
       "      <th>1147917</th>\n",
       "      <td>Mexico</td>\n",
       "      <td>MEX</td>\n",
       "      <td>Personal remittances, received (current US$)</td>\n",
       "      <td>BX.TRF.PWKR.CD.DT</td>\n",
       "      <td>1981</td>\n",
       "      <td>1.220000e+09</td>\n",
       "    </tr>\n",
       "    <tr>\n",
       "      <th>1232695</th>\n",
       "      <td>Mexico</td>\n",
       "      <td>MEX</td>\n",
       "      <td>Personal remittances, received (current US$)</td>\n",
       "      <td>BX.TRF.PWKR.CD.DT</td>\n",
       "      <td>1982</td>\n",
       "      <td>1.226000e+09</td>\n",
       "    </tr>\n",
       "    <tr>\n",
       "      <th>1318064</th>\n",
       "      <td>Mexico</td>\n",
       "      <td>MEX</td>\n",
       "      <td>Personal remittances, received (current US$)</td>\n",
       "      <td>BX.TRF.PWKR.CD.DT</td>\n",
       "      <td>1983</td>\n",
       "      <td>1.391000e+09</td>\n",
       "    </tr>\n",
       "  </tbody>\n",
       "</table>\n",
       "</div>"
      ],
      "text/plain": [
       "        CountryName CountryCode                                 IndicatorName  \\\n",
       "985318       Mexico         MEX  Personal remittances, received (current US$)   \n",
       "1064681      Mexico         MEX  Personal remittances, received (current US$)   \n",
       "1147917      Mexico         MEX  Personal remittances, received (current US$)   \n",
       "1232695      Mexico         MEX  Personal remittances, received (current US$)   \n",
       "1318064      Mexico         MEX  Personal remittances, received (current US$)   \n",
       "\n",
       "             IndicatorCode  Year         Value  \n",
       "985318   BX.TRF.PWKR.CD.DT  1979  1.770000e+08  \n",
       "1064681  BX.TRF.PWKR.CD.DT  1980  1.039000e+09  \n",
       "1147917  BX.TRF.PWKR.CD.DT  1981  1.220000e+09  \n",
       "1232695  BX.TRF.PWKR.CD.DT  1982  1.226000e+09  \n",
       "1318064  BX.TRF.PWKR.CD.DT  1983  1.391000e+09  "
      ]
     },
     "execution_count": 9,
     "metadata": {},
     "output_type": "execute_result"
    }
   ],
   "source": [
    "mex_remittances.head()"
   ]
  },
  {
   "cell_type": "code",
   "execution_count": 10,
   "metadata": {},
   "outputs": [
    {
     "name": "stdout",
     "output_type": "stream",
     "text": [
      "1979  to  2014\n"
     ]
    }
   ],
   "source": [
    "years = mex_remittances['Year'].tolist()\n",
    "print(min(years),\" to \", max(years))"
   ]
  },
  {
   "cell_type": "code",
   "execution_count": 11,
   "metadata": {},
   "outputs": [
    {
     "data": {
      "text/html": [
       "<div>\n",
       "<style scoped>\n",
       "    .dataframe tbody tr th:only-of-type {\n",
       "        vertical-align: middle;\n",
       "    }\n",
       "\n",
       "    .dataframe tbody tr th {\n",
       "        vertical-align: top;\n",
       "    }\n",
       "\n",
       "    .dataframe thead th {\n",
       "        text-align: right;\n",
       "    }\n",
       "</style>\n",
       "<table border=\"1\" class=\"dataframe\">\n",
       "  <thead>\n",
       "    <tr style=\"text-align: right;\">\n",
       "      <th></th>\n",
       "      <th>CountryName</th>\n",
       "      <th>CountryCode</th>\n",
       "      <th>IndicatorName</th>\n",
       "      <th>IndicatorCode</th>\n",
       "      <th>Year</th>\n",
       "      <th>Value</th>\n",
       "    </tr>\n",
       "  </thead>\n",
       "  <tbody>\n",
       "    <tr>\n",
       "      <th>15317</th>\n",
       "      <td>Mexico</td>\n",
       "      <td>MEX</td>\n",
       "      <td>Household final consumption expenditure (curre...</td>\n",
       "      <td>NE.CON.PRVT.CD</td>\n",
       "      <td>1960</td>\n",
       "      <td>1.006864e+10</td>\n",
       "    </tr>\n",
       "    <tr>\n",
       "      <th>40766</th>\n",
       "      <td>Mexico</td>\n",
       "      <td>MEX</td>\n",
       "      <td>Household final consumption expenditure (curre...</td>\n",
       "      <td>NE.CON.PRVT.CD</td>\n",
       "      <td>1961</td>\n",
       "      <td>1.088552e+10</td>\n",
       "    </tr>\n",
       "    <tr>\n",
       "      <th>68566</th>\n",
       "      <td>Mexico</td>\n",
       "      <td>MEX</td>\n",
       "      <td>Household final consumption expenditure (curre...</td>\n",
       "      <td>NE.CON.PRVT.CD</td>\n",
       "      <td>1962</td>\n",
       "      <td>1.172704e+10</td>\n",
       "    </tr>\n",
       "    <tr>\n",
       "      <th>97130</th>\n",
       "      <td>Mexico</td>\n",
       "      <td>MEX</td>\n",
       "      <td>Household final consumption expenditure (curre...</td>\n",
       "      <td>NE.CON.PRVT.CD</td>\n",
       "      <td>1963</td>\n",
       "      <td>1.267080e+10</td>\n",
       "    </tr>\n",
       "    <tr>\n",
       "      <th>126041</th>\n",
       "      <td>Mexico</td>\n",
       "      <td>MEX</td>\n",
       "      <td>Household final consumption expenditure (curre...</td>\n",
       "      <td>NE.CON.PRVT.CD</td>\n",
       "      <td>1964</td>\n",
       "      <td>1.500952e+10</td>\n",
       "    </tr>\n",
       "  </tbody>\n",
       "</table>\n",
       "</div>"
      ],
      "text/plain": [
       "       CountryName CountryCode  \\\n",
       "15317       Mexico         MEX   \n",
       "40766       Mexico         MEX   \n",
       "68566       Mexico         MEX   \n",
       "97130       Mexico         MEX   \n",
       "126041      Mexico         MEX   \n",
       "\n",
       "                                            IndicatorName   IndicatorCode  \\\n",
       "15317   Household final consumption expenditure (curre...  NE.CON.PRVT.CD   \n",
       "40766   Household final consumption expenditure (curre...  NE.CON.PRVT.CD   \n",
       "68566   Household final consumption expenditure (curre...  NE.CON.PRVT.CD   \n",
       "97130   Household final consumption expenditure (curre...  NE.CON.PRVT.CD   \n",
       "126041  Household final consumption expenditure (curre...  NE.CON.PRVT.CD   \n",
       "\n",
       "        Year         Value  \n",
       "15317   1960  1.006864e+10  \n",
       "40766   1961  1.088552e+10  \n",
       "68566   1962  1.172704e+10  \n",
       "97130   1963  1.267080e+10  \n",
       "126041  1964  1.500952e+10  "
      ]
     },
     "execution_count": 11,
     "metadata": {},
     "output_type": "execute_result"
    }
   ],
   "source": [
    "mex_consumption.head()"
   ]
  },
  {
   "cell_type": "code",
   "execution_count": 12,
   "metadata": {},
   "outputs": [
    {
     "name": "stdout",
     "output_type": "stream",
     "text": [
      "1960  to  2014\n"
     ]
    }
   ],
   "source": [
    "years1 = mex_consumption['Year'].tolist()\n",
    "print(min(years1),\" to \", max(years1))"
   ]
  },
  {
   "cell_type": "markdown",
   "metadata": {},
   "source": [
    "Household final consumption has ddata going back to 1960 while Personal remittances only has data going back to 1979 so I will create a subset of the mex_consumption data to filter for data greater than 1978"
   ]
  },
  {
   "cell_type": "code",
   "execution_count": 13,
   "metadata": {},
   "outputs": [],
   "source": [
    "mex_cons_trunc = mex_consumption[mex_consumption['Year'] > 1978]"
   ]
  },
  {
   "cell_type": "code",
   "execution_count": 14,
   "metadata": {},
   "outputs": [
    {
     "name": "stdout",
     "output_type": "stream",
     "text": [
      "1979  to  2014\n"
     ]
    }
   ],
   "source": [
    "years2 = mex_cons_trunc['Year'].tolist()\n",
    "print(min(years2),\" to \", max(years2))"
   ]
  },
  {
   "cell_type": "markdown",
   "metadata": {},
   "source": [
    "Now are two datasets match the year range from 1979 to 2014"
   ]
  },
  {
   "cell_type": "code",
   "execution_count": 15,
   "metadata": {},
   "outputs": [
    {
     "data": {
      "image/png": "[encoded data removed]",
      "text/plain": [
       "<Figure size 432x288 with 1 Axes>"
      ]
     },
     "metadata": {},
     "output_type": "display_data"
    }
   ],
   "source": [
    "years = mex_remittances['Year'].values\n",
    "remit = mex_remittances['Value'].values/1000000000\n",
    "\n",
    "\n",
    "fig, axis = plt.subplots()\n",
    "# Grid lines, Xticks, Xlabel, Ylabel\n",
    "\n",
    "axis.yaxis.grid(False)\n",
    "axis.set_title('Mexico: Remittances Received (billions)',fontsize=10)\n",
    "#axis.set_xlabel(mex_remit['IndicatorName'].iloc[0],fontsize=10)\n",
    "\n",
    "axis.set_ylabel(mex_remittances['IndicatorName'].iloc[0],fontsize=10)\n",
    "plt.plot(years, remit)\n",
    "plt.show()"
   ]
  },
  {
   "cell_type": "markdown",
   "metadata": {},
   "source": [
    "The graph above shows remittances received have increased over time and peaked around 2005 then decreased. The decrease is around the time of the Great Recession. But remittances show to be increasing in after 2010."
   ]
  },
  {
   "cell_type": "code",
   "execution_count": 16,
   "metadata": {},
   "outputs": [
    {
     "data": {
      "image/png": "[encoded data removed]",
      "text/plain": [
       "<Figure size 432x288 with 1 Axes>"
      ]
     },
     "metadata": {},
     "output_type": "display_data"
    }
   ],
   "source": [
    "years = mex_cons_trunc['Year'].values\n",
    "lit = mex_cons_trunc['Value'].values/1000000000\n",
    "fig, axis = plt.subplots()\n",
    "# Grid lines, Xticks, Xlabel, Ylabel\n",
    "\n",
    "axis.yaxis.grid(False)\n",
    "axis.set_title('Mexico: Household Consumption (billions)',fontsize=10)\n",
    "#axis.set_xlabel(mex_remit['IndicatorName'].iloc[0],fontsize=10)\n",
    "\n",
    "axis.set_ylabel(mex_cons_trunc['IndicatorName'].iloc[0],fontsize=10)\n",
    "plt.plot(years, lit)\n",
    "plt.show()\n",
    "\n"
   ]
  },
  {
   "cell_type": "markdown",
   "metadata": {},
   "source": [
    "The graph above shows Household consumption has increased with a few dips. There is also a dip in consumption around 2007 which matches the dip in remittances."
   ]
  },
  {
   "cell_type": "code",
   "execution_count": 17,
   "metadata": {
    "scrolled": true
   },
   "outputs": [
    {
     "data": {
      "image/png": "[encoded data removed]",
      "text/plain": [
       "<Figure size 432x288 with 1 Axes>"
      ]
     },
     "metadata": {},
     "output_type": "display_data"
    }
   ],
   "source": [
    "%matplotlib inline\n",
    "\n",
    "fig, axis = plt.subplots()\n",
    "# Grid lines, Xticks, Xlabel, Ylabel\n",
    "\n",
    "axis.yaxis.grid(True)\n",
    "axis.set_title('Mexico: Remittances Received (billions) vs. Remitttances Received (billions)',fontsize=10)\n",
    "axis.set_xlabel(mex_remittances['IndicatorName'].iloc[0],fontsize=10)\n",
    "axis.set_ylabel(mex_cons_trunc['IndicatorName'].iloc[0],fontsize=10)\n",
    "\n",
    "#plt.ticklabel_format(useOffset=1000)\n",
    "\n",
    "X = mex_remittances['Value']/1000000000\n",
    "Y = mex_cons_trunc['Value']/1000000000\n",
    "\n",
    "axis.scatter(X, Y)\n",
    "plt.show()"
   ]
  },
  {
   "cell_type": "markdown",
   "metadata": {},
   "source": [
    "The scatter plot above shows that remittances received and household consumption are closely related. There are a few points where the remittances received ranged from 10-20 billion and household consumption stayed around 500 billion. Other than those points, higher remittances correlated to higher household consumption. "
   ]
  },
  {
   "cell_type": "code",
   "execution_count": 18,
   "metadata": {},
   "outputs": [
    {
     "data": {
      "text/plain": [
       "array([[1.        , 0.93830092],\n",
       "       [0.93830092, 1.        ]])"
      ]
     },
     "execution_count": 18,
     "metadata": {},
     "output_type": "execute_result"
    }
   ],
   "source": [
    "np.corrcoef(mex_remittances['Value'],mex_cons_trunc['Value'])"
   ]
  },
  {
   "cell_type": "markdown",
   "metadata": {},
   "source": [
    "# There is a 0.938 correlation \n",
    "\n",
    "## There are no clear outliers so these two indicators are strongly correlated. \n",
    "## However, correlation does not equal causation so we can't say with certainty that higher remittances cause higher household consumption."
   ]
  }
 ],
 "metadata": {
  "kernelspec": {
   "display_name": "Python 3",
   "language": "python",
   "name": "python3"
  },
  "language_info": {
   "codemirror_mode": {
    "name": "ipython",
    "version": 3
   },
   "file_extension": ".py",
   "mimetype": "text/x-python",
   "name": "python",
   "nbconvert_exporter": "python",
   "pygments_lexer": "ipython3",
   "version": "3.6.5"
  }
 },
 "nbformat": 4,
 "nbformat_minor": 2
}
