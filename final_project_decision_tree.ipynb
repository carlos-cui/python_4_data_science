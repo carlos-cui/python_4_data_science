{
 "cells": [
  {
   "cell_type": "markdown",
   "metadata": {
    "collapsed": true
   },
   "source": [
    "# Building a Decision Tree Classification Model Using CalFresh Data"
   ]
  },
  {
   "cell_type": "markdown",
   "metadata": {},
   "source": [
    "## Decision Tree Classification Model to Predict Application Outcome (Approved/Denied)\n",
    "\n",
    "I work at Alameda County Social Services in California. Social Services administers safety net programs which include CalFresh, previously known as Food Stamps. I will use CalFresh data from my work in order to try to build a model that predicts the outcome of an application using variables other than income. \n",
    "\n",
    "In this notebook, I will attempt to use scikit-learn to perform a decision tree based classification of application outcome data.\n",
    "\n",
    "The first step is to query my work database for applications processed between Jan 1 2013 and Jul 31 2018. I queried a long period of time in order to get enough records to train and test the model.\n",
    "\n",
    "\n",
    "    ## Research Question: Can we predict the outcome of an application (Approved/Denied) based on a set of indicators provided in the application?"
   ]
  },
  {
   "cell_type": "markdown",
   "metadata": {},
   "source": [
    "## Importing the Necessary Libraries\n"
   ]
  },
  {
   "cell_type": "code",
   "execution_count": 4,
   "metadata": {},
   "outputs": [],
   "source": [
    "import pandas as pd\n",
    "from sklearn.metrics import accuracy_score\n",
    "from sklearn.model_selection import train_test_split\n",
    "from sklearn.tree import DecisionTreeClassifier\n",
    "import matplotlib.pyplot as plt\n",
    "import seaborn as sns"
   ]
  },
  {
   "cell_type": "markdown",
   "metadata": {},
   "source": [
    "## Creating a Pandas DataFrame from the xlsx file\n",
    "\n",
    "I queried my work's oracle database using a separate program and then exported the results to an xlsx file\n",
    "\n",
    "We will first explore the dataset"
   ]
  },
  {
   "cell_type": "code",
   "execution_count": 5,
   "metadata": {},
   "outputs": [],
   "source": [
    "data = pd.read_excel('FS_DATA.xlsx')"
   ]
  },
  {
   "cell_type": "code",
   "execution_count": 6,
   "metadata": {},
   "outputs": [
    {
     "data": {
      "text/plain": [
       "(312633, 13)"
      ]
     },
     "execution_count": 6,
     "metadata": {},
     "output_type": "execute_result"
    }
   ],
   "source": [
    "data.shape"
   ]
  },
  {
   "cell_type": "markdown",
   "metadata": {},
   "source": [
    "## 312K records\n",
    "\n",
    "My dataset includes 312K records and 13 columns, which should be enough to train and test my model."
   ]
  },
  {
   "cell_type": "code",
   "execution_count": 7,
   "metadata": {},
   "outputs": [
    {
     "data": {
      "text/plain": [
       "Index(['Index', 'REQ', 'ACT', 'DAYS', 'STS', 'STS_CD', 'TYP', 'LNG', 'SRC',\n",
       "       'SX', 'ET', 'AGE', 'ZIP'],\n",
       "      dtype='object')"
      ]
     },
     "execution_count": 7,
     "metadata": {},
     "output_type": "execute_result"
    }
   ],
   "source": [
    "data.columns"
   ]
  },
  {
   "cell_type": "markdown",
   "metadata": {},
   "source": [
    "Each row contains one application that has already been processed. Among other indicators, each row includes when the application was received, when it was processed, the days to process, the outcome (STS), and the indicators from the application.\n",
    "\n",
    "Each row, or sample, consists of the following variables:\n",
    "\n",
    "* **REQ:** request date aka application date\n",
    "* **ACT:** date application was processed\n",
    "* **DAYS:** days to process the application\n",
    "* **STS:** outcome of the application as a category\n",
    "* **STS_CD:** outcome of the application as a code\n",
    "* **TYP:** type of application: new, reapplication\n",
    "* **LNG:** language of applicant\n",
    "* **SRC:** source of the application, how was the application received: mail, online, phone\n",
    "* **SX:** applicant's sex\n",
    "* **ET:** applicant's ethnicity\n",
    "* **AGE:** applicant's age\n",
    "* **ZIP:** applicant's zip"
   ]
  },
  {
   "cell_type": "code",
   "execution_count": 8,
   "metadata": {},
   "outputs": [
    {
     "data": {
      "text/plain": [
       "Index              int64\n",
       "REQ       datetime64[ns]\n",
       "ACT       datetime64[ns]\n",
       "DAYS               int64\n",
       "STS               object\n",
       "STS_CD             int64\n",
       "TYP               object\n",
       "LNG               object\n",
       "SRC               object\n",
       "SX                object\n",
       "ET                object\n",
       "AGE              float64\n",
       "ZIP              float64\n",
       "dtype: object"
      ]
     },
     "execution_count": 8,
     "metadata": {},
     "output_type": "execute_result"
    }
   ],
   "source": [
    "data.dtypes"
   ]
  },
  {
   "cell_type": "markdown",
   "metadata": {},
   "source": [
    "Our outcome variable is 'STS' and I have already converted this to an integer value in the column 'STS_CD' and assigned '1' to 'AP' aka Approved and '0' to 'DE' aka Denied.\n",
    "\n",
    "5 of the indicators we need to build the model are currently in an object format and will need to be converted to a float in order to use them for our classification model. It is my understanding classificaiton models only take float/integer values and not strings.\n",
    "\n",
    "I masked the application ID with an Index in order to maintain data confidentiality."
   ]
  },
  {
   "cell_type": "code",
   "execution_count": 9,
   "metadata": {},
   "outputs": [
    {
     "data": {
      "text/html": [
       "<div>\n",
       "<style scoped>\n",
       "    .dataframe tbody tr th:only-of-type {\n",
       "        vertical-align: middle;\n",
       "    }\n",
       "\n",
       "    .dataframe tbody tr th {\n",
       "        vertical-align: top;\n",
       "    }\n",
       "\n",
       "    .dataframe thead th {\n",
       "        text-align: right;\n",
       "    }\n",
       "</style>\n",
       "<table border=\"1\" class=\"dataframe\">\n",
       "  <thead>\n",
       "    <tr style=\"text-align: right;\">\n",
       "      <th></th>\n",
       "      <th>Index</th>\n",
       "      <th>REQ</th>\n",
       "      <th>ACT</th>\n",
       "      <th>DAYS</th>\n",
       "      <th>STS</th>\n",
       "      <th>STS_CD</th>\n",
       "      <th>TYP</th>\n",
       "      <th>LNG</th>\n",
       "      <th>SRC</th>\n",
       "      <th>SX</th>\n",
       "      <th>ET</th>\n",
       "      <th>AGE</th>\n",
       "      <th>ZIP</th>\n",
       "    </tr>\n",
       "  </thead>\n",
       "  <tbody>\n",
       "    <tr>\n",
       "      <th>0</th>\n",
       "      <td>0</td>\n",
       "      <td>2013-06-14</td>\n",
       "      <td>2013-07-16</td>\n",
       "      <td>32</td>\n",
       "      <td>AP</td>\n",
       "      <td>1</td>\n",
       "      <td>RS</td>\n",
       "      <td>EN</td>\n",
       "      <td>WI</td>\n",
       "      <td>F</td>\n",
       "      <td>BL</td>\n",
       "      <td>25.3</td>\n",
       "      <td>94501.0</td>\n",
       "    </tr>\n",
       "    <tr>\n",
       "      <th>1</th>\n",
       "      <td>1</td>\n",
       "      <td>2013-11-22</td>\n",
       "      <td>2013-12-19</td>\n",
       "      <td>27</td>\n",
       "      <td>DE</td>\n",
       "      <td>0</td>\n",
       "      <td>RE</td>\n",
       "      <td>1T</td>\n",
       "      <td>WI</td>\n",
       "      <td>M</td>\n",
       "      <td>EH</td>\n",
       "      <td>27.9</td>\n",
       "      <td>94606.0</td>\n",
       "    </tr>\n",
       "    <tr>\n",
       "      <th>2</th>\n",
       "      <td>2</td>\n",
       "      <td>2013-12-16</td>\n",
       "      <td>2013-12-19</td>\n",
       "      <td>3</td>\n",
       "      <td>AP</td>\n",
       "      <td>1</td>\n",
       "      <td>RG</td>\n",
       "      <td>EN</td>\n",
       "      <td>BC</td>\n",
       "      <td>F</td>\n",
       "      <td>FI</td>\n",
       "      <td>42.2</td>\n",
       "      <td>94587.0</td>\n",
       "    </tr>\n",
       "    <tr>\n",
       "      <th>3</th>\n",
       "      <td>3</td>\n",
       "      <td>2013-11-04</td>\n",
       "      <td>2013-12-19</td>\n",
       "      <td>45</td>\n",
       "      <td>AP</td>\n",
       "      <td>1</td>\n",
       "      <td>RG</td>\n",
       "      <td>SP</td>\n",
       "      <td>WI</td>\n",
       "      <td>F</td>\n",
       "      <td>HM</td>\n",
       "      <td>42.9</td>\n",
       "      <td>94601.0</td>\n",
       "    </tr>\n",
       "    <tr>\n",
       "      <th>4</th>\n",
       "      <td>4</td>\n",
       "      <td>2013-05-07</td>\n",
       "      <td>2013-05-08</td>\n",
       "      <td>1</td>\n",
       "      <td>AP</td>\n",
       "      <td>1</td>\n",
       "      <td>RE</td>\n",
       "      <td>EN</td>\n",
       "      <td>WI</td>\n",
       "      <td>M</td>\n",
       "      <td>BL</td>\n",
       "      <td>49.2</td>\n",
       "      <td>99999.0</td>\n",
       "    </tr>\n",
       "  </tbody>\n",
       "</table>\n",
       "</div>"
      ],
      "text/plain": [
       "   Index        REQ        ACT  DAYS STS  STS_CD TYP LNG SRC SX  ET   AGE  \\\n",
       "0      0 2013-06-14 2013-07-16    32  AP       1  RS  EN  WI  F  BL  25.3   \n",
       "1      1 2013-11-22 2013-12-19    27  DE       0  RE  1T  WI  M  EH  27.9   \n",
       "2      2 2013-12-16 2013-12-19     3  AP       1  RG  EN  BC  F  FI  42.2   \n",
       "3      3 2013-11-04 2013-12-19    45  AP       1  RG  SP  WI  F  HM  42.9   \n",
       "4      4 2013-05-07 2013-05-08     1  AP       1  RE  EN  WI  M  BL  49.2   \n",
       "\n",
       "       ZIP  \n",
       "0  94501.0  \n",
       "1  94606.0  \n",
       "2  94587.0  \n",
       "3  94601.0  \n",
       "4  99999.0  "
      ]
     },
     "execution_count": 9,
     "metadata": {},
     "output_type": "execute_result"
    }
   ],
   "source": [
    "data.head(5)"
   ]
  },
  {
   "cell_type": "markdown",
   "metadata": {},
   "source": [
    "## Data Cleaning Steps"
   ]
  },
  {
   "cell_type": "code",
   "execution_count": 7,
   "metadata": {},
   "outputs": [
    {
     "data": {
      "text/html": [
       "<div>\n",
       "<style scoped>\n",
       "    .dataframe tbody tr th:only-of-type {\n",
       "        vertical-align: middle;\n",
       "    }\n",
       "\n",
       "    .dataframe tbody tr th {\n",
       "        vertical-align: top;\n",
       "    }\n",
       "\n",
       "    .dataframe thead th {\n",
       "        text-align: right;\n",
       "    }\n",
       "</style>\n",
       "<table border=\"1\" class=\"dataframe\">\n",
       "  <thead>\n",
       "    <tr style=\"text-align: right;\">\n",
       "      <th></th>\n",
       "      <th>Index</th>\n",
       "      <th>REQ</th>\n",
       "      <th>ACT</th>\n",
       "      <th>DAYS</th>\n",
       "      <th>STS</th>\n",
       "      <th>STS_CD</th>\n",
       "      <th>TYP</th>\n",
       "      <th>LNG</th>\n",
       "      <th>SRC</th>\n",
       "      <th>SX</th>\n",
       "      <th>ET</th>\n",
       "      <th>AGE</th>\n",
       "      <th>ZIP</th>\n",
       "    </tr>\n",
       "  </thead>\n",
       "  <tbody>\n",
       "    <tr>\n",
       "      <th>75596</th>\n",
       "      <td>32963</td>\n",
       "      <td>2013-07-24</td>\n",
       "      <td>2013-08-01</td>\n",
       "      <td>8</td>\n",
       "      <td>AP</td>\n",
       "      <td>1</td>\n",
       "      <td>IC</td>\n",
       "      <td>SP</td>\n",
       "      <td>WI</td>\n",
       "      <td>F</td>\n",
       "      <td>HI</td>\n",
       "      <td>25.8</td>\n",
       "      <td>NaN</td>\n",
       "    </tr>\n",
       "  </tbody>\n",
       "</table>\n",
       "</div>"
      ],
      "text/plain": [
       "       Index        REQ        ACT  DAYS STS  STS_CD TYP LNG SRC SX  ET   AGE  \\\n",
       "75596  32963 2013-07-24 2013-08-01     8  AP       1  IC  SP  WI  F  HI  25.8   \n",
       "\n",
       "       ZIP  \n",
       "75596  NaN  "
      ]
     },
     "execution_count": 7,
     "metadata": {},
     "output_type": "execute_result"
    }
   ],
   "source": [
    "data[data.isnull().any(axis=1)]"
   ]
  },
  {
   "cell_type": "markdown",
   "metadata": {},
   "source": [
    "Now let's drop null values using the *pandas dropna* function. "
   ]
  },
  {
   "cell_type": "code",
   "execution_count": 22,
   "metadata": {},
   "outputs": [
    {
     "name": "stdout",
     "output_type": "stream",
     "text": [
      "312633\n"
     ]
    }
   ],
   "source": [
    "before_rows = data.shape[0]\n",
    "print(before_rows)"
   ]
  },
  {
   "cell_type": "code",
   "execution_count": 23,
   "metadata": {},
   "outputs": [],
   "source": [
    "data = data.dropna()"
   ]
  },
  {
   "cell_type": "code",
   "execution_count": 24,
   "metadata": {},
   "outputs": [
    {
     "name": "stdout",
     "output_type": "stream",
     "text": [
      "312632\n"
     ]
    }
   ],
   "source": [
    "after_rows = data.shape[0]\n",
    "print(after_rows)"
   ]
  },
  {
   "cell_type": "markdown",
   "metadata": {},
   "source": [
    "## How many rows dropped due to cleaning?\n",
    "\n",
    "Most of the data was cleaned at the extraction phase so there are almost no nulls. Also, all of these indicators in an application are required fields so there shouldn't be nulls."
   ]
  },
  {
   "cell_type": "code",
   "execution_count": 25,
   "metadata": {},
   "outputs": [
    {
     "data": {
      "text/plain": [
       "1"
      ]
     },
     "execution_count": 25,
     "metadata": {},
     "output_type": "execute_result"
    }
   ],
   "source": [
    "before_rows - after_rows"
   ]
  },
  {
   "cell_type": "markdown",
   "metadata": {},
   "source": [
    "# DATA EXPLORATION\n",
    "\n",
    "We will now look at the current dataset for exploratory purposes"
   ]
  },
  {
   "cell_type": "code",
   "execution_count": 11,
   "metadata": {},
   "outputs": [
    {
     "data": {
      "text/html": [
       "<div>\n",
       "<style scoped>\n",
       "    .dataframe tbody tr th:only-of-type {\n",
       "        vertical-align: middle;\n",
       "    }\n",
       "\n",
       "    .dataframe tbody tr th {\n",
       "        vertical-align: top;\n",
       "    }\n",
       "\n",
       "    .dataframe thead th {\n",
       "        text-align: right;\n",
       "    }\n",
       "</style>\n",
       "<table border=\"1\" class=\"dataframe\">\n",
       "  <thead>\n",
       "    <tr style=\"text-align: right;\">\n",
       "      <th></th>\n",
       "      <th>DAYS</th>\n",
       "      <th>AGE</th>\n",
       "    </tr>\n",
       "  </thead>\n",
       "  <tbody>\n",
       "    <tr>\n",
       "      <th>count</th>\n",
       "      <td>312633.000000</td>\n",
       "      <td>312633.000000</td>\n",
       "    </tr>\n",
       "    <tr>\n",
       "      <th>mean</th>\n",
       "      <td>15.123848</td>\n",
       "      <td>37.215855</td>\n",
       "    </tr>\n",
       "    <tr>\n",
       "      <th>std</th>\n",
       "      <td>18.744556</td>\n",
       "      <td>14.574875</td>\n",
       "    </tr>\n",
       "    <tr>\n",
       "      <th>min</th>\n",
       "      <td>0.000000</td>\n",
       "      <td>-0.300000</td>\n",
       "    </tr>\n",
       "    <tr>\n",
       "      <th>25%</th>\n",
       "      <td>1.000000</td>\n",
       "      <td>25.800000</td>\n",
       "    </tr>\n",
       "    <tr>\n",
       "      <th>50%</th>\n",
       "      <td>8.000000</td>\n",
       "      <td>33.400000</td>\n",
       "    </tr>\n",
       "    <tr>\n",
       "      <th>75%</th>\n",
       "      <td>28.000000</td>\n",
       "      <td>46.400000</td>\n",
       "    </tr>\n",
       "    <tr>\n",
       "      <th>max</th>\n",
       "      <td>149.000000</td>\n",
       "      <td>142.000000</td>\n",
       "    </tr>\n",
       "  </tbody>\n",
       "</table>\n",
       "</div>"
      ],
      "text/plain": [
       "                DAYS            AGE\n",
       "count  312633.000000  312633.000000\n",
       "mean       15.123848      37.215855\n",
       "std        18.744556      14.574875\n",
       "min         0.000000      -0.300000\n",
       "25%         1.000000      25.800000\n",
       "50%         8.000000      33.400000\n",
       "75%        28.000000      46.400000\n",
       "max       149.000000     142.000000"
      ]
     },
     "execution_count": 11,
     "metadata": {},
     "output_type": "execute_result"
    }
   ],
   "source": [
    "data[['DAYS','AGE']].describe()"
   ]
  },
  {
   "cell_type": "markdown",
   "metadata": {},
   "source": [
    "Above are some stats about two of the float values we will use in our model. DAYS is days to process and we can see the minimum was 0 days (processed same day as the application date) and the max was 149 days. The average was 15 days with a standard deviation of 18.7.\n",
    "\n",
    "For Age, the average age is 37.2 years old with a standard deviation of 14.5 years. The minimum was -0.3 which seems to be an error and the max was 142, which also seems to be an error. We will need to remove those from the dataset."
   ]
  },
  {
   "cell_type": "code",
   "execution_count": 12,
   "metadata": {},
   "outputs": [
    {
     "data": {
      "text/plain": [
       "Text(0.5, 1.0, 'Count by Outcome')"
      ]
     },
     "execution_count": 12,
     "metadata": {},
     "output_type": "execute_result"
    },
    {
     "data": {
      "image/png": "[encoded data removed]",
      "text/plain": [
       "<Figure size 432x288 with 1 Axes>"
      ]
     },
     "metadata": {},
     "output_type": "display_data"
    }
   ],
   "source": [
    "sns.set()\n",
    "sns.countplot(data['STS']).set_title('Count by Outcome')"
   ]
  },
  {
   "cell_type": "markdown",
   "metadata": {},
   "source": [
    "## This is the outcome I want to predict using a machine learning model\n",
    "\n",
    "More applications were approved (over 200K) than denied (less than 100K)."
   ]
  },
  {
   "cell_type": "code",
   "execution_count": 13,
   "metadata": {},
   "outputs": [
    {
     "data": {
      "text/plain": [
       "Text(0.5, 1.0, 'Count by Application Type')"
      ]
     },
     "execution_count": 13,
     "metadata": {},
     "output_type": "execute_result"
    },
    {
     "data": {
      "image/png": "[encoded data removed]",
      "text/plain": [
       "<Figure size 432x288 with 1 Axes>"
      ]
     },
     "metadata": {},
     "output_type": "display_data"
    }
   ],
   "source": [
    "sns.countplot(data['TYP']).set_title('Count by Application Type')"
   ]
  },
  {
   "cell_type": "markdown",
   "metadata": {},
   "source": [
    "The majority of applications were 'RG' Regular applications folloed by 'RE' Reapplication and 'RS' Restoration."
   ]
  },
  {
   "cell_type": "code",
   "execution_count": 14,
   "metadata": {},
   "outputs": [
    {
     "data": {
      "text/plain": [
       "Text(0.5, 1.0, 'Count by Language')"
      ]
     },
     "execution_count": 14,
     "metadata": {},
     "output_type": "execute_result"
    },
    {
     "data": {
      "image/png": "[encoded data removed]",
      "text/plain": [
       "<Figure size 432x288 with 1 Axes>"
      ]
     },
     "metadata": {},
     "output_type": "display_data"
    }
   ],
   "source": [
    "sns.countplot(data['LNG']).set_title('Count by Language')"
   ]
  },
  {
   "cell_type": "markdown",
   "metadata": {},
   "source": [
    "seaborn produced a bar for all the values which makes it impossible to read so I'll switch back to matplot lib in order to set the top 10 by count. I wasn't able to figure out how to plot only the top 10 values in seaborn."
   ]
  },
  {
   "cell_type": "code",
   "execution_count": 15,
   "metadata": {},
   "outputs": [
    {
     "data": {
      "image/png": "[encoded data removed]",
      "text/plain": [
       "<Figure size 432x288 with 1 Axes>"
      ]
     },
     "metadata": {},
     "output_type": "display_data"
    }
   ],
   "source": [
    "lang = data['LNG']\n",
    "lang.value_counts()[:10].plot(kind='bar')\n",
    "plt.show()"
   ]
  },
  {
   "cell_type": "markdown",
   "metadata": {},
   "source": [
    "The majority of applicant's spoke English 'EN' followed by Spanish 'SP' followed by Cantonese 'CN'."
   ]
  },
  {
   "cell_type": "code",
   "execution_count": 16,
   "metadata": {},
   "outputs": [
    {
     "data": {
      "text/plain": [
       "<matplotlib.axes._subplots.AxesSubplot at 0x213df56f4e0>"
      ]
     },
     "execution_count": 16,
     "metadata": {},
     "output_type": "execute_result"
    },
    {
     "data": {
      "image/png": "[encoded data removed]",
      "text/plain": [
       "<Figure size 432x288 with 1 Axes>"
      ]
     },
     "metadata": {},
     "output_type": "display_data"
    }
   ],
   "source": [
    "src = data['SRC']\n",
    "src.value_counts()[:10].plot(kind='bar')"
   ]
  },
  {
   "cell_type": "markdown",
   "metadata": {},
   "source": [
    "Above are the counts by application source showing Walk-Ins 'WI' as the most common, followed by 'BC' an online portal."
   ]
  },
  {
   "cell_type": "code",
   "execution_count": 17,
   "metadata": {},
   "outputs": [
    {
     "data": {
      "text/plain": [
       "<matplotlib.axes._subplots.AxesSubplot at 0x213de17b358>"
      ]
     },
     "execution_count": 17,
     "metadata": {},
     "output_type": "execute_result"
    },
    {
     "data": {
      "image/png": "[encoded data removed]",
      "text/plain": [
       "<Figure size 432x288 with 1 Axes>"
      ]
     },
     "metadata": {},
     "output_type": "display_data"
    }
   ],
   "source": [
    "sx = data['SX']\n",
    "sx.value_counts().plot(kind='bar')\n"
   ]
  },
  {
   "cell_type": "markdown",
   "metadata": {},
   "source": [
    "More applicant's were female 'F' (close to 200K) than male 'M' (less than 125K). "
   ]
  },
  {
   "cell_type": "code",
   "execution_count": 18,
   "metadata": {},
   "outputs": [
    {
     "data": {
      "text/plain": [
       "<matplotlib.axes._subplots.AxesSubplot at 0x213dd4004e0>"
      ]
     },
     "execution_count": 18,
     "metadata": {},
     "output_type": "execute_result"
    },
    {
     "data": {
      "image/png": "[encoded data removed]",
      "text/plain": [
       "<Figure size 432x288 with 1 Axes>"
      ]
     },
     "metadata": {},
     "output_type": "display_data"
    }
   ],
   "source": [
    "et = data['ET']\n",
    "et.value_counts()[:10].plot(kind='bar')"
   ]
  },
  {
   "cell_type": "markdown",
   "metadata": {},
   "source": [
    "Above is a count of applicant's by ethnicity code."
   ]
  },
  {
   "cell_type": "code",
   "execution_count": 34,
   "metadata": {},
   "outputs": [
    {
     "data": {
      "image/png": "[encoded data removed]",
      "text/plain": [
       "<Figure size 432x288 with 1 Axes>"
      ]
     },
     "metadata": {},
     "output_type": "display_data"
    }
   ],
   "source": [
    "hist = data['AGE'].hist(bins=100)"
   ]
  },
  {
   "cell_type": "markdown",
   "metadata": {},
   "source": [
    "Above is a histogram showing the age distribution of the primary applicant. Most applicants were between 20 and 50 years old."
   ]
  },
  {
   "cell_type": "code",
   "execution_count": 39,
   "metadata": {},
   "outputs": [
    {
     "data": {
      "image/png": "[encoded data removed]",
      "text/plain": [
       "<Figure size 432x288 with 1 Axes>"
      ]
     },
     "metadata": {},
     "output_type": "display_data"
    }
   ],
   "source": [
    "days = data['DAYS'].hist(bins=10)"
   ]
  },
  {
   "cell_type": "markdown",
   "metadata": {},
   "source": [
    "Above is a histogram showing the distribution of days to process an application. Most were processed in under 40 days."
   ]
  },
  {
   "cell_type": "markdown",
   "metadata": {},
   "source": [
    "<p style=\"font-family: Arial; font-size:1.75em;color:purple; font-style:bold\">\n",
    "Convert to a Classification Task <br><br></p>\n",
    "Binarize the relative_humidity_3pm to 0 or 1.<br>\n"
   ]
  },
  {
   "cell_type": "markdown",
   "metadata": {},
   "source": [
    "# Converting object/string indicators to numerical values"
   ]
  },
  {
   "cell_type": "markdown",
   "metadata": {},
   "source": [
    "### I will now attempt to convert the categorical values to numerical values since decision tree models require numerical values to run"
   ]
  },
  {
   "cell_type": "code",
   "execution_count": 12,
   "metadata": {},
   "outputs": [],
   "source": [
    "df = data.copy()"
   ]
  },
  {
   "cell_type": "code",
   "execution_count": 26,
   "metadata": {},
   "outputs": [
    {
     "data": {
      "text/plain": [
       "Index(['Index', 'REQ', 'ACT', 'DAYS', 'STS', 'STS_CD', 'TYP', 'LNG', 'SRC',\n",
       "       'SX', 'ET', 'AGE', 'ZIP'],\n",
       "      dtype='object')"
      ]
     },
     "execution_count": 26,
     "metadata": {},
     "output_type": "execute_result"
    }
   ],
   "source": [
    "df.columns"
   ]
  },
  {
   "cell_type": "code",
   "execution_count": 27,
   "metadata": {},
   "outputs": [
    {
     "data": {
      "text/plain": [
       "Index              int64\n",
       "REQ       datetime64[ns]\n",
       "ACT       datetime64[ns]\n",
       "DAYS               int64\n",
       "STS               object\n",
       "STS_CD             int64\n",
       "TYP                 int8\n",
       "LNG                 int8\n",
       "SRC                 int8\n",
       "SX                  int8\n",
       "ET                  int8\n",
       "AGE              float64\n",
       "ZIP              float64\n",
       "dtype: object"
      ]
     },
     "execution_count": 27,
     "metadata": {},
     "output_type": "execute_result"
    }
   ],
   "source": [
    "df.dtypes"
   ]
  },
  {
   "cell_type": "markdown",
   "metadata": {},
   "source": [
    "## First I will convert object types to category types using the 'astype'"
   ]
  },
  {
   "cell_type": "code",
   "execution_count": 16,
   "metadata": {},
   "outputs": [],
   "source": [
    "df['TYP'] = df['TYP'].astype('category')\n",
    "df['LNG'] = df['LNG'].astype('category')\n",
    "df['SRC'] = df['SRC'].astype('category')\n",
    "df['SX'] = df['SX'].astype('category')\n",
    "df['ET'] = df['ET'].astype('category')"
   ]
  },
  {
   "cell_type": "code",
   "execution_count": 17,
   "metadata": {},
   "outputs": [
    {
     "data": {
      "text/html": [
       "<div>\n",
       "<style scoped>\n",
       "    .dataframe tbody tr th:only-of-type {\n",
       "        vertical-align: middle;\n",
       "    }\n",
       "\n",
       "    .dataframe tbody tr th {\n",
       "        vertical-align: top;\n",
       "    }\n",
       "\n",
       "    .dataframe thead th {\n",
       "        text-align: right;\n",
       "    }\n",
       "</style>\n",
       "<table border=\"1\" class=\"dataframe\">\n",
       "  <thead>\n",
       "    <tr style=\"text-align: right;\">\n",
       "      <th></th>\n",
       "      <th>Index</th>\n",
       "      <th>REQ</th>\n",
       "      <th>ACT</th>\n",
       "      <th>DAYS</th>\n",
       "      <th>STS</th>\n",
       "      <th>STS_CD</th>\n",
       "      <th>TYP</th>\n",
       "      <th>LNG</th>\n",
       "      <th>SRC</th>\n",
       "      <th>SX</th>\n",
       "      <th>ET</th>\n",
       "      <th>AGE</th>\n",
       "      <th>ZIP</th>\n",
       "    </tr>\n",
       "  </thead>\n",
       "  <tbody>\n",
       "    <tr>\n",
       "      <th>0</th>\n",
       "      <td>0</td>\n",
       "      <td>2013-06-14</td>\n",
       "      <td>2013-07-16</td>\n",
       "      <td>32</td>\n",
       "      <td>AP</td>\n",
       "      <td>1</td>\n",
       "      <td>RS</td>\n",
       "      <td>EN</td>\n",
       "      <td>WI</td>\n",
       "      <td>F</td>\n",
       "      <td>BL</td>\n",
       "      <td>25.3</td>\n",
       "      <td>94501.0</td>\n",
       "    </tr>\n",
       "    <tr>\n",
       "      <th>1</th>\n",
       "      <td>1</td>\n",
       "      <td>2013-11-22</td>\n",
       "      <td>2013-12-19</td>\n",
       "      <td>27</td>\n",
       "      <td>DE</td>\n",
       "      <td>0</td>\n",
       "      <td>RE</td>\n",
       "      <td>1T</td>\n",
       "      <td>WI</td>\n",
       "      <td>M</td>\n",
       "      <td>EH</td>\n",
       "      <td>27.9</td>\n",
       "      <td>94606.0</td>\n",
       "    </tr>\n",
       "    <tr>\n",
       "      <th>2</th>\n",
       "      <td>2</td>\n",
       "      <td>2013-12-16</td>\n",
       "      <td>2013-12-19</td>\n",
       "      <td>3</td>\n",
       "      <td>AP</td>\n",
       "      <td>1</td>\n",
       "      <td>RG</td>\n",
       "      <td>EN</td>\n",
       "      <td>BC</td>\n",
       "      <td>F</td>\n",
       "      <td>FI</td>\n",
       "      <td>42.2</td>\n",
       "      <td>94587.0</td>\n",
       "    </tr>\n",
       "    <tr>\n",
       "      <th>3</th>\n",
       "      <td>3</td>\n",
       "      <td>2013-11-04</td>\n",
       "      <td>2013-12-19</td>\n",
       "      <td>45</td>\n",
       "      <td>AP</td>\n",
       "      <td>1</td>\n",
       "      <td>RG</td>\n",
       "      <td>SP</td>\n",
       "      <td>WI</td>\n",
       "      <td>F</td>\n",
       "      <td>HM</td>\n",
       "      <td>42.9</td>\n",
       "      <td>94601.0</td>\n",
       "    </tr>\n",
       "    <tr>\n",
       "      <th>4</th>\n",
       "      <td>4</td>\n",
       "      <td>2013-05-07</td>\n",
       "      <td>2013-05-08</td>\n",
       "      <td>1</td>\n",
       "      <td>AP</td>\n",
       "      <td>1</td>\n",
       "      <td>RE</td>\n",
       "      <td>EN</td>\n",
       "      <td>WI</td>\n",
       "      <td>M</td>\n",
       "      <td>BL</td>\n",
       "      <td>49.2</td>\n",
       "      <td>99999.0</td>\n",
       "    </tr>\n",
       "  </tbody>\n",
       "</table>\n",
       "</div>"
      ],
      "text/plain": [
       "   Index        REQ        ACT  DAYS STS  STS_CD TYP LNG SRC SX  ET   AGE  \\\n",
       "0      0 2013-06-14 2013-07-16    32  AP       1  RS  EN  WI  F  BL  25.3   \n",
       "1      1 2013-11-22 2013-12-19    27  DE       0  RE  1T  WI  M  EH  27.9   \n",
       "2      2 2013-12-16 2013-12-19     3  AP       1  RG  EN  BC  F  FI  42.2   \n",
       "3      3 2013-11-04 2013-12-19    45  AP       1  RG  SP  WI  F  HM  42.9   \n",
       "4      4 2013-05-07 2013-05-08     1  AP       1  RE  EN  WI  M  BL  49.2   \n",
       "\n",
       "       ZIP  \n",
       "0  94501.0  \n",
       "1  94606.0  \n",
       "2  94587.0  \n",
       "3  94601.0  \n",
       "4  99999.0  "
      ]
     },
     "execution_count": 17,
     "metadata": {},
     "output_type": "execute_result"
    }
   ],
   "source": [
    "df.head()"
   ]
  },
  {
   "cell_type": "code",
   "execution_count": 18,
   "metadata": {},
   "outputs": [
    {
     "data": {
      "text/plain": [
       "Index              int64\n",
       "REQ       datetime64[ns]\n",
       "ACT       datetime64[ns]\n",
       "DAYS               int64\n",
       "STS               object\n",
       "STS_CD             int64\n",
       "TYP             category\n",
       "LNG             category\n",
       "SRC             category\n",
       "SX              category\n",
       "ET              category\n",
       "AGE              float64\n",
       "ZIP              float64\n",
       "dtype: object"
      ]
     },
     "execution_count": 18,
     "metadata": {},
     "output_type": "execute_result"
    }
   ],
   "source": [
    "df.dtypes"
   ]
  },
  {
   "cell_type": "markdown",
   "metadata": {},
   "source": [
    "The object datatypes were converted successfully to category types"
   ]
  },
  {
   "cell_type": "markdown",
   "metadata": {},
   "source": [
    "## Next we will convert the category values to codes using cat.codes"
   ]
  },
  {
   "cell_type": "code",
   "execution_count": 19,
   "metadata": {},
   "outputs": [],
   "source": [
    "df['TYP'] = df['TYP'].cat.codes\n",
    "df['LNG'] = df['LNG'].cat.codes\n",
    "df['SRC'] = df['SRC'].cat.codes\n",
    "df['SX'] = df['SX'].cat.codes\n",
    "df['ET'] = df['ET'].cat.codes\n"
   ]
  },
  {
   "cell_type": "code",
   "execution_count": 28,
   "metadata": {},
   "outputs": [
    {
     "data": {
      "text/html": [
       "<div>\n",
       "<style scoped>\n",
       "    .dataframe tbody tr th:only-of-type {\n",
       "        vertical-align: middle;\n",
       "    }\n",
       "\n",
       "    .dataframe tbody tr th {\n",
       "        vertical-align: top;\n",
       "    }\n",
       "\n",
       "    .dataframe thead th {\n",
       "        text-align: right;\n",
       "    }\n",
       "</style>\n",
       "<table border=\"1\" class=\"dataframe\">\n",
       "  <thead>\n",
       "    <tr style=\"text-align: right;\">\n",
       "      <th></th>\n",
       "      <th>Index</th>\n",
       "      <th>REQ</th>\n",
       "      <th>ACT</th>\n",
       "      <th>DAYS</th>\n",
       "      <th>STS</th>\n",
       "      <th>STS_CD</th>\n",
       "      <th>TYP</th>\n",
       "      <th>LNG</th>\n",
       "      <th>SRC</th>\n",
       "      <th>SX</th>\n",
       "      <th>ET</th>\n",
       "      <th>AGE</th>\n",
       "      <th>ZIP</th>\n",
       "    </tr>\n",
       "  </thead>\n",
       "  <tbody>\n",
       "    <tr>\n",
       "      <th>0</th>\n",
       "      <td>0</td>\n",
       "      <td>2013-06-14</td>\n",
       "      <td>2013-07-16</td>\n",
       "      <td>32</td>\n",
       "      <td>AP</td>\n",
       "      <td>1</td>\n",
       "      <td>8</td>\n",
       "      <td>33</td>\n",
       "      <td>34</td>\n",
       "      <td>0</td>\n",
       "      <td>33</td>\n",
       "      <td>25.3</td>\n",
       "      <td>94501.0</td>\n",
       "    </tr>\n",
       "    <tr>\n",
       "      <th>1</th>\n",
       "      <td>1</td>\n",
       "      <td>2013-11-22</td>\n",
       "      <td>2013-12-19</td>\n",
       "      <td>27</td>\n",
       "      <td>DE</td>\n",
       "      <td>0</td>\n",
       "      <td>6</td>\n",
       "      <td>11</td>\n",
       "      <td>34</td>\n",
       "      <td>1</td>\n",
       "      <td>38</td>\n",
       "      <td>27.9</td>\n",
       "      <td>94606.0</td>\n",
       "    </tr>\n",
       "    <tr>\n",
       "      <th>2</th>\n",
       "      <td>2</td>\n",
       "      <td>2013-12-16</td>\n",
       "      <td>2013-12-19</td>\n",
       "      <td>3</td>\n",
       "      <td>AP</td>\n",
       "      <td>1</td>\n",
       "      <td>7</td>\n",
       "      <td>33</td>\n",
       "      <td>17</td>\n",
       "      <td>0</td>\n",
       "      <td>39</td>\n",
       "      <td>42.2</td>\n",
       "      <td>94587.0</td>\n",
       "    </tr>\n",
       "    <tr>\n",
       "      <th>3</th>\n",
       "      <td>3</td>\n",
       "      <td>2013-11-04</td>\n",
       "      <td>2013-12-19</td>\n",
       "      <td>45</td>\n",
       "      <td>AP</td>\n",
       "      <td>1</td>\n",
       "      <td>7</td>\n",
       "      <td>54</td>\n",
       "      <td>34</td>\n",
       "      <td>0</td>\n",
       "      <td>43</td>\n",
       "      <td>42.9</td>\n",
       "      <td>94601.0</td>\n",
       "    </tr>\n",
       "    <tr>\n",
       "      <th>4</th>\n",
       "      <td>4</td>\n",
       "      <td>2013-05-07</td>\n",
       "      <td>2013-05-08</td>\n",
       "      <td>1</td>\n",
       "      <td>AP</td>\n",
       "      <td>1</td>\n",
       "      <td>6</td>\n",
       "      <td>33</td>\n",
       "      <td>34</td>\n",
       "      <td>1</td>\n",
       "      <td>33</td>\n",
       "      <td>49.2</td>\n",
       "      <td>99999.0</td>\n",
       "    </tr>\n",
       "  </tbody>\n",
       "</table>\n",
       "</div>"
      ],
      "text/plain": [
       "   Index        REQ        ACT  DAYS STS  STS_CD  TYP  LNG  SRC  SX  ET   AGE  \\\n",
       "0      0 2013-06-14 2013-07-16    32  AP       1    8   33   34   0  33  25.3   \n",
       "1      1 2013-11-22 2013-12-19    27  DE       0    6   11   34   1  38  27.9   \n",
       "2      2 2013-12-16 2013-12-19     3  AP       1    7   33   17   0  39  42.2   \n",
       "3      3 2013-11-04 2013-12-19    45  AP       1    7   54   34   0  43  42.9   \n",
       "4      4 2013-05-07 2013-05-08     1  AP       1    6   33   34   1  33  49.2   \n",
       "\n",
       "       ZIP  \n",
       "0  94501.0  \n",
       "1  94606.0  \n",
       "2  94587.0  \n",
       "3  94601.0  \n",
       "4  99999.0  "
      ]
     },
     "execution_count": 28,
     "metadata": {},
     "output_type": "execute_result"
    }
   ],
   "source": [
    "df.head()"
   ]
  },
  {
   "cell_type": "code",
   "execution_count": null,
   "metadata": {},
   "outputs": [],
   "source": []
  },
  {
   "cell_type": "code",
   "execution_count": 20,
   "metadata": {},
   "outputs": [
    {
     "data": {
      "text/plain": [
       "Index              int64\n",
       "REQ       datetime64[ns]\n",
       "ACT       datetime64[ns]\n",
       "DAYS               int64\n",
       "STS               object\n",
       "STS_CD             int64\n",
       "TYP                 int8\n",
       "LNG                 int8\n",
       "SRC                 int8\n",
       "SX                  int8\n",
       "ET                  int8\n",
       "AGE              float64\n",
       "ZIP              float64\n",
       "dtype: object"
      ]
     },
     "execution_count": 20,
     "metadata": {},
     "output_type": "execute_result"
    }
   ],
   "source": [
    "df.dtypes"
   ]
  },
  {
   "cell_type": "markdown",
   "metadata": {},
   "source": [
    "The category datatypes have successfully converted to int8 datatypes"
   ]
  },
  {
   "cell_type": "code",
   "execution_count": 30,
   "metadata": {},
   "outputs": [],
   "source": [
    "#df['ZIP'] = df['ZIP'].astype('int64')"
   ]
  },
  {
   "cell_type": "markdown",
   "metadata": {},
   "source": [
    "## I previusly converted the outcome status (Approved/Denied) to 0 or 1"
   ]
  },
  {
   "cell_type": "code",
   "execution_count": 26,
   "metadata": {},
   "outputs": [
    {
     "data": {
      "text/plain": [
       "0    1\n",
       "1    0\n",
       "2    1\n",
       "3    1\n",
       "4    1\n",
       "Name: STS_CD, dtype: int64"
      ]
     },
     "execution_count": 26,
     "metadata": {},
     "output_type": "execute_result"
    }
   ],
   "source": [
    "df['STS_CD'].head()"
   ]
  },
  {
   "cell_type": "markdown",
   "metadata": {},
   "source": [
    "# I will store the Target in 'y' "
   ]
  },
  {
   "cell_type": "markdown",
   "metadata": {},
   "source": [
    "My target is the outcome of the application: Approved is 1 and Denied is 0"
   ]
  },
  {
   "cell_type": "code",
   "execution_count": 27,
   "metadata": {},
   "outputs": [],
   "source": [
    "y=df[['STS_CD']].copy()\n",
    "#y"
   ]
  },
  {
   "cell_type": "code",
   "execution_count": 28,
   "metadata": {},
   "outputs": [
    {
     "data": {
      "text/html": [
       "<div>\n",
       "<style scoped>\n",
       "    .dataframe tbody tr th:only-of-type {\n",
       "        vertical-align: middle;\n",
       "    }\n",
       "\n",
       "    .dataframe tbody tr th {\n",
       "        vertical-align: top;\n",
       "    }\n",
       "\n",
       "    .dataframe thead th {\n",
       "        text-align: right;\n",
       "    }\n",
       "</style>\n",
       "<table border=\"1\" class=\"dataframe\">\n",
       "  <thead>\n",
       "    <tr style=\"text-align: right;\">\n",
       "      <th></th>\n",
       "      <th>STS_CD</th>\n",
       "    </tr>\n",
       "  </thead>\n",
       "  <tbody>\n",
       "    <tr>\n",
       "      <th>0</th>\n",
       "      <td>1</td>\n",
       "    </tr>\n",
       "    <tr>\n",
       "      <th>1</th>\n",
       "      <td>0</td>\n",
       "    </tr>\n",
       "    <tr>\n",
       "      <th>2</th>\n",
       "      <td>1</td>\n",
       "    </tr>\n",
       "    <tr>\n",
       "      <th>3</th>\n",
       "      <td>1</td>\n",
       "    </tr>\n",
       "    <tr>\n",
       "      <th>4</th>\n",
       "      <td>1</td>\n",
       "    </tr>\n",
       "  </tbody>\n",
       "</table>\n",
       "</div>"
      ],
      "text/plain": [
       "   STS_CD\n",
       "0       1\n",
       "1       0\n",
       "2       1\n",
       "3       1\n",
       "4       1"
      ]
     },
     "execution_count": 28,
     "metadata": {},
     "output_type": "execute_result"
    }
   ],
   "source": [
    "y.head()"
   ]
  },
  {
   "cell_type": "markdown",
   "metadata": {},
   "source": [
    "## Now that I have converted all categorical values to numerical values I can set the indicators to an object called 'indicators'. These will be used to build the model."
   ]
  },
  {
   "cell_type": "code",
   "execution_count": 29,
   "metadata": {},
   "outputs": [],
   "source": [
    "indicators = ['DAYS','TYP','LNG','SRC','SX','ET','AGE','ZIP']"
   ]
  },
  {
   "cell_type": "code",
   "execution_count": 30,
   "metadata": {},
   "outputs": [],
   "source": [
    "X = df[indicators].copy()"
   ]
  },
  {
   "cell_type": "code",
   "execution_count": 31,
   "metadata": {},
   "outputs": [
    {
     "data": {
      "text/html": [
       "<div>\n",
       "<style scoped>\n",
       "    .dataframe tbody tr th:only-of-type {\n",
       "        vertical-align: middle;\n",
       "    }\n",
       "\n",
       "    .dataframe tbody tr th {\n",
       "        vertical-align: top;\n",
       "    }\n",
       "\n",
       "    .dataframe thead th {\n",
       "        text-align: right;\n",
       "    }\n",
       "</style>\n",
       "<table border=\"1\" class=\"dataframe\">\n",
       "  <thead>\n",
       "    <tr style=\"text-align: right;\">\n",
       "      <th></th>\n",
       "      <th>DAYS</th>\n",
       "      <th>TYP</th>\n",
       "      <th>LNG</th>\n",
       "      <th>SRC</th>\n",
       "      <th>SX</th>\n",
       "      <th>ET</th>\n",
       "      <th>AGE</th>\n",
       "      <th>ZIP</th>\n",
       "    </tr>\n",
       "  </thead>\n",
       "  <tbody>\n",
       "    <tr>\n",
       "      <th>0</th>\n",
       "      <td>32</td>\n",
       "      <td>8</td>\n",
       "      <td>33</td>\n",
       "      <td>34</td>\n",
       "      <td>0</td>\n",
       "      <td>33</td>\n",
       "      <td>25.3</td>\n",
       "      <td>94501</td>\n",
       "    </tr>\n",
       "    <tr>\n",
       "      <th>1</th>\n",
       "      <td>27</td>\n",
       "      <td>6</td>\n",
       "      <td>11</td>\n",
       "      <td>34</td>\n",
       "      <td>1</td>\n",
       "      <td>38</td>\n",
       "      <td>27.9</td>\n",
       "      <td>94606</td>\n",
       "    </tr>\n",
       "    <tr>\n",
       "      <th>2</th>\n",
       "      <td>3</td>\n",
       "      <td>7</td>\n",
       "      <td>33</td>\n",
       "      <td>17</td>\n",
       "      <td>0</td>\n",
       "      <td>39</td>\n",
       "      <td>42.2</td>\n",
       "      <td>94587</td>\n",
       "    </tr>\n",
       "    <tr>\n",
       "      <th>3</th>\n",
       "      <td>45</td>\n",
       "      <td>7</td>\n",
       "      <td>54</td>\n",
       "      <td>34</td>\n",
       "      <td>0</td>\n",
       "      <td>43</td>\n",
       "      <td>42.9</td>\n",
       "      <td>94601</td>\n",
       "    </tr>\n",
       "    <tr>\n",
       "      <th>4</th>\n",
       "      <td>1</td>\n",
       "      <td>6</td>\n",
       "      <td>33</td>\n",
       "      <td>34</td>\n",
       "      <td>1</td>\n",
       "      <td>33</td>\n",
       "      <td>49.2</td>\n",
       "      <td>99999</td>\n",
       "    </tr>\n",
       "  </tbody>\n",
       "</table>\n",
       "</div>"
      ],
      "text/plain": [
       "   DAYS  TYP  LNG  SRC  SX  ET   AGE    ZIP\n",
       "0    32    8   33   34   0  33  25.3  94501\n",
       "1    27    6   11   34   1  38  27.9  94606\n",
       "2     3    7   33   17   0  39  42.2  94587\n",
       "3    45    7   54   34   0  43  42.9  94601\n",
       "4     1    6   33   34   1  33  49.2  99999"
      ]
     },
     "execution_count": 31,
     "metadata": {},
     "output_type": "execute_result"
    }
   ],
   "source": [
    "X.columns\n",
    "X.head()"
   ]
  },
  {
   "cell_type": "code",
   "execution_count": 32,
   "metadata": {},
   "outputs": [
    {
     "data": {
      "text/plain": [
       "Index(['STS_CD'], dtype='object')"
      ]
     },
     "execution_count": 32,
     "metadata": {},
     "output_type": "execute_result"
    }
   ],
   "source": [
    "y.columns"
   ]
  },
  {
   "cell_type": "markdown",
   "metadata": {},
   "source": [
    "\n",
    "\n",
    "## We will now perform our Test and Train split\n",
    "\n"
   ]
  },
  {
   "cell_type": "markdown",
   "metadata": {},
   "source": [
    "The test is '0.33' below means that 2/3 of the input data will be used to train the model and the test size will be 1/3 (0.33)"
   ]
  },
  {
   "cell_type": "code",
   "execution_count": 33,
   "metadata": {},
   "outputs": [],
   "source": [
    "X_train, X_test, y_train, y_test = train_test_split(X, y, test_size=0.33, random_state=324)"
   ]
  },
  {
   "cell_type": "code",
   "execution_count": 34,
   "metadata": {},
   "outputs": [
    {
     "data": {
      "text/html": [
       "<div>\n",
       "<style scoped>\n",
       "    .dataframe tbody tr th:only-of-type {\n",
       "        vertical-align: middle;\n",
       "    }\n",
       "\n",
       "    .dataframe tbody tr th {\n",
       "        vertical-align: top;\n",
       "    }\n",
       "\n",
       "    .dataframe thead th {\n",
       "        text-align: right;\n",
       "    }\n",
       "</style>\n",
       "<table border=\"1\" class=\"dataframe\">\n",
       "  <thead>\n",
       "    <tr style=\"text-align: right;\">\n",
       "      <th></th>\n",
       "      <th>STS_CD</th>\n",
       "    </tr>\n",
       "  </thead>\n",
       "  <tbody>\n",
       "    <tr>\n",
       "      <th>count</th>\n",
       "      <td>209463.000000</td>\n",
       "    </tr>\n",
       "    <tr>\n",
       "      <th>mean</th>\n",
       "      <td>0.706387</td>\n",
       "    </tr>\n",
       "    <tr>\n",
       "      <th>std</th>\n",
       "      <td>0.455418</td>\n",
       "    </tr>\n",
       "    <tr>\n",
       "      <th>min</th>\n",
       "      <td>0.000000</td>\n",
       "    </tr>\n",
       "    <tr>\n",
       "      <th>25%</th>\n",
       "      <td>0.000000</td>\n",
       "    </tr>\n",
       "    <tr>\n",
       "      <th>50%</th>\n",
       "      <td>1.000000</td>\n",
       "    </tr>\n",
       "    <tr>\n",
       "      <th>75%</th>\n",
       "      <td>1.000000</td>\n",
       "    </tr>\n",
       "    <tr>\n",
       "      <th>max</th>\n",
       "      <td>1.000000</td>\n",
       "    </tr>\n",
       "  </tbody>\n",
       "</table>\n",
       "</div>"
      ],
      "text/plain": [
       "              STS_CD\n",
       "count  209463.000000\n",
       "mean        0.706387\n",
       "std         0.455418\n",
       "min         0.000000\n",
       "25%         0.000000\n",
       "50%         1.000000\n",
       "75%         1.000000\n",
       "max         1.000000"
      ]
     },
     "execution_count": 34,
     "metadata": {},
     "output_type": "execute_result"
    }
   ],
   "source": [
    "#type(X_train)\n",
    "#type(X_test)\n",
    "#type(y_train)\n",
    "#type(y_test)\n",
    "#X_train.head()\n",
    "y_train.describe()"
   ]
  },
  {
   "cell_type": "markdown",
   "metadata": {},
   "source": [
    "## Fit on Train Set"
   ]
  },
  {
   "cell_type": "markdown",
   "metadata": {},
   "source": [
    "We will use the fit method of this object\n",
    "to make the classifier tune itself\n",
    "to learn from the samples.\n",
    "\n",
    "## My model will be called 'outcome_classifier' since I am trying to predict the outcome of an applciation using specific indicators from the application."
   ]
  },
  {
   "cell_type": "code",
   "execution_count": 35,
   "metadata": {},
   "outputs": [
    {
     "data": {
      "text/plain": [
       "DecisionTreeClassifier(class_weight=None, criterion='gini', max_depth=None,\n",
       "            max_features=None, max_leaf_nodes=10,\n",
       "            min_impurity_decrease=0.0, min_impurity_split=None,\n",
       "            min_samples_leaf=1, min_samples_split=2,\n",
       "            min_weight_fraction_leaf=0.0, presort=False, random_state=0,\n",
       "            splitter='best')"
      ]
     },
     "execution_count": 35,
     "metadata": {},
     "output_type": "execute_result"
    }
   ],
   "source": [
    "outcome_classifier = DecisionTreeClassifier(max_leaf_nodes=10, random_state=0)\n",
    "outcome_classifier.fit(X_train, y_train)"
   ]
  },
  {
   "cell_type": "code",
   "execution_count": 36,
   "metadata": {},
   "outputs": [
    {
     "data": {
      "text/plain": [
       "sklearn.tree.tree.DecisionTreeClassifier"
      ]
     },
     "execution_count": 36,
     "metadata": {},
     "output_type": "execute_result"
    }
   ],
   "source": [
    "type(outcome_classifier)"
   ]
  },
  {
   "cell_type": "markdown",
   "metadata": {},
   "source": [
    "## Predict on Test Set \n",
    "\n",
    "\n"
   ]
  },
  {
   "cell_type": "code",
   "execution_count": 37,
   "metadata": {},
   "outputs": [],
   "source": [
    "predictions = outcome_classifier.predict(X_test)"
   ]
  },
  {
   "cell_type": "code",
   "execution_count": 38,
   "metadata": {},
   "outputs": [
    {
     "data": {
      "text/plain": [
       "array([1, 0, 1, 1, 1, 1, 1, 1, 1, 1, 1, 0, 0, 1, 1, 1, 1, 1, 0, 1],\n",
       "      dtype=int64)"
      ]
     },
     "execution_count": 38,
     "metadata": {},
     "output_type": "execute_result"
    }
   ],
   "source": [
    "predictions[:20]"
   ]
  },
  {
   "cell_type": "code",
   "execution_count": 39,
   "metadata": {},
   "outputs": [
    {
     "data": {
      "text/plain": [
       "169599    0\n",
       "175382    0\n",
       "115599    1\n",
       "254289    1\n",
       "291478    1\n",
       "231041    1\n",
       "5120      1\n",
       "73255     1\n",
       "230182    1\n",
       "15180     1\n",
       "55149     1\n",
       "5817      1\n",
       "134586    1\n",
       "103405    1\n",
       "170859    1\n",
       "168284    0\n",
       "31646     1\n",
       "182646    1\n",
       "1592      1\n",
       "208028    0\n",
       "Name: STS_CD, dtype: int64"
      ]
     },
     "execution_count": 39,
     "metadata": {},
     "output_type": "execute_result"
    }
   ],
   "source": [
    "y_test['STS_CD'][:20]"
   ]
  },
  {
   "cell_type": "markdown",
   "metadata": {},
   "source": [
    "## We will now measure the accuracy of the classifier\n"
   ]
  },
  {
   "cell_type": "markdown",
   "metadata": {},
   "source": [
    "## The accuracy score for my model is 76.4% which isn't too bad."
   ]
  },
  {
   "cell_type": "code",
   "execution_count": 40,
   "metadata": {},
   "outputs": [
    {
     "data": {
      "text/plain": [
       "0.7641248824743867"
      ]
     },
     "execution_count": 40,
     "metadata": {},
     "output_type": "execute_result"
    }
   ],
   "source": [
    "accuracy_score(y_true = y_test, y_pred = predictions)"
   ]
  },
  {
   "cell_type": "markdown",
   "metadata": {
    "collapsed": true
   },
   "source": [
    "# 76.4% accuracy score!!"
   ]
  },
  {
   "cell_type": "markdown",
   "metadata": {},
   "source": [
    "#### My goal was to build a decision tree machine learning model that predictied the outcome of a CalFresh application using a set of specific indicators from the application. CalFresh is an income based safety net program and the goal was to build a model that used indicators other than income to predict the outcome. \n",
    "\n",
    "#### While I was able to successfully extract a clean dataset and convert categorical values to numerical values, a lot more work needs to be done in order to make this a succesful model. In building this model, I also read that having categorical values with too many possible values might cause a decision tree model to overfit the data. Some of my values had more than a few possible values so my model may be suffering from overfitting and that is something I wish to explore more as I advance through these data science classes.\n",
    "\n",
    "#### Overall, I think this was a successful attempt to use what was taught in class to build my first machine learning model.\n",
    "\n",
    "#### Thank you for reading!"
   ]
  },
  {
   "cell_type": "code",
   "execution_count": null,
   "metadata": {},
   "outputs": [],
   "source": []
  }
 ],
 "metadata": {
  "kernelspec": {
   "display_name": "Python 3",
   "language": "python",
   "name": "python3"
  },
  "language_info": {
   "codemirror_mode": {
    "name": "ipython",
    "version": 3
   },
   "file_extension": ".py",
   "mimetype": "text/x-python",
   "name": "python",
   "nbconvert_exporter": "python",
   "pygments_lexer": "ipython3",
   "version": "3.6.7"
  }
 },
 "nbformat": 4,
 "nbformat_minor": 2
}
